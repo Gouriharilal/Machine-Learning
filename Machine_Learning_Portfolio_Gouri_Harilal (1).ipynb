{
 "cells": [
  {
   "cell_type": "code",
   "execution_count": 1,
   "id": "25a08e1a",
   "metadata": {},
   "outputs": [],
   "source": [
    "import pandas as pd\n",
    "from sklearn.neighbors import KNeighborsClassifier as KNN\n",
    "from sklearn import tree\n",
    "from sklearn.tree import DecisionTreeClassifier\n",
    "import sklearn.tree as tr\n",
    "from sklearn.linear_model import LogisticRegression\n",
    "from sklearn.model_selection import train_test_split\n",
    "from sklearn.metrics import accuracy_score\n",
    "from sklearn.preprocessing import MinMaxScaler\n",
    "import numpy as np\n",
    "import sklearn.datasets as dt\n",
    "import sklearn.model_selection as ms\n",
    "import sklearn.neighbors as ne \n",
    "from sklearn.neighbors import KNeighborsClassifier\n",
    "from sklearn.metrics import accuracy_score\n",
    "from sklearn.model_selection import train_test_split\n",
    "\n"
   ]
  },
  {
   "cell_type": "code",
   "execution_count": 6,
   "id": "8f6ee454",
   "metadata": {},
   "outputs": [
    {
     "name": "stdout",
     "output_type": "stream",
     "text": [
      "      id  gender   age  hypertension  heart_disease ever_married  \\\n",
      "0   9046    Male  67.0             0              1          Yes   \n",
      "1  51676  Female  61.0             0              0          Yes   \n",
      "2  31112    Male  80.0             0              1          Yes   \n",
      "3  60182  Female  49.0             0              0          Yes   \n",
      "4   1665  Female  79.0             1              0          Yes   \n",
      "\n",
      "       work_type Residence_type  avg_glucose_level   bmi   smoking_status  \\\n",
      "0        Private          Urban             228.69  36.6  formerly smoked   \n",
      "1  Self-employed          Rural             202.21   NaN     never smoked   \n",
      "2        Private          Rural             105.92  32.5     never smoked   \n",
      "3        Private          Urban             171.23  34.4           smokes   \n",
      "4  Self-employed          Rural             174.12  24.0     never smoked   \n",
      "\n",
      "   stroke  \n",
      "0       1  \n",
      "1       1  \n",
      "2       1  \n",
      "3       1  \n",
      "4       1  \n",
      "(5110, 12)\n"
     ]
    }
   ],
   "source": [
    "df=pd.read_csv(\"C:\\\\Users\\\\HP\\\\Downloads\\\\healthcare-dataset-stroke-data.csv\") #Reading the dataset\n",
    "print(df.head())\n",
    "print(df.shape)"
   ]
  },
  {
   "cell_type": "code",
   "execution_count": 30,
   "id": "304e637a",
   "metadata": {},
   "outputs": [],
   "source": [
    "#Datapreperation using labelencoder\n",
    "from sklearn.preprocessing import LabelEncoder\n",
    "lb=LabelEncoder()\n",
    "df['gender']=lb.fit_transform(df['gender'])\n",
    "df['ever_married']=lb.fit_transform(df['ever_married'])\n",
    "df['work_type']=lb.fit_transform(df['work_type'])\n",
    "df['Residence_type']=lb.fit_transform(df['Residence_type'])\n",
    "df['smoking_status']=lb.fit_transform(df['smoking_status'])\n",
    "\n",
    "df.replace('\\t?', float('nan'), inplace=True)  # Replace '\\t?' with NaN\n",
    " \n",
    "# Convert the relevant columns to float\n",
    "columns_to_convert = [ 'gender',     'ever_married',   'work_type' ,  'Residence_type',  'smoking_status']\n",
    "for column in columns_to_convert:\n",
    "    df[column] = pd.to_numeric(df[column], errors='coerce')\n",
    " \n",
    "# Drop rows with missing values\n",
    "df.dropna(inplace=True)"
   ]
  },
  {
   "cell_type": "code",
   "execution_count": 8,
   "id": "1c1c7da2",
   "metadata": {},
   "outputs": [
    {
     "data": {
      "text/plain": [
       "(4909, 12)"
      ]
     },
     "execution_count": 8,
     "metadata": {},
     "output_type": "execute_result"
    }
   ],
   "source": [
    "df.shape"
   ]
  },
  {
   "cell_type": "code",
   "execution_count": 9,
   "id": "db788255",
   "metadata": {},
   "outputs": [
    {
     "name": "stdout",
     "output_type": "stream",
     "text": [
      "      id  gender   age  hypertension  heart_disease  ever_married  work_type  \\\n",
      "0   9046       1  67.0             0              1             1          2   \n",
      "2  31112       1  80.0             0              1             1          2   \n",
      "3  60182       0  49.0             0              0             1          2   \n",
      "4   1665       0  79.0             1              0             1          3   \n",
      "5  56669       1  81.0             0              0             1          2   \n",
      "\n",
      "   Residence_type  avg_glucose_level   bmi  smoking_status  stroke  \n",
      "0               1             228.69  36.6               1       1  \n",
      "2               0             105.92  32.5               2       1  \n",
      "3               1             171.23  34.4               3       1  \n",
      "4               0             174.12  24.0               2       1  \n",
      "5               1             186.21  29.0               1       1  \n"
     ]
    }
   ],
   "source": [
    "print(df.head())"
   ]
  },
  {
   "cell_type": "code",
   "execution_count": 10,
   "id": "0c6fed63",
   "metadata": {},
   "outputs": [
    {
     "data": {
      "text/plain": [
       "id                   0\n",
       "gender               0\n",
       "age                  0\n",
       "hypertension         0\n",
       "heart_disease        0\n",
       "ever_married         0\n",
       "work_type            0\n",
       "Residence_type       0\n",
       "avg_glucose_level    0\n",
       "bmi                  0\n",
       "smoking_status       0\n",
       "stroke               0\n",
       "dtype: int64"
      ]
     },
     "execution_count": 10,
     "metadata": {},
     "output_type": "execute_result"
    }
   ],
   "source": [
    "#Checking for nulls\n",
    "df.isnull().sum()"
   ]
  },
  {
   "cell_type": "code",
   "execution_count": 11,
   "id": "cecc7054",
   "metadata": {},
   "outputs": [
    {
     "data": {
      "text/html": [
       "<div>\n",
       "<style scoped>\n",
       "    .dataframe tbody tr th:only-of-type {\n",
       "        vertical-align: middle;\n",
       "    }\n",
       "\n",
       "    .dataframe tbody tr th {\n",
       "        vertical-align: top;\n",
       "    }\n",
       "\n",
       "    .dataframe thead th {\n",
       "        text-align: right;\n",
       "    }\n",
       "</style>\n",
       "<table border=\"1\" class=\"dataframe\">\n",
       "  <thead>\n",
       "    <tr style=\"text-align: right;\">\n",
       "      <th></th>\n",
       "      <th>id</th>\n",
       "      <th>gender</th>\n",
       "      <th>age</th>\n",
       "      <th>hypertension</th>\n",
       "      <th>heart_disease</th>\n",
       "      <th>ever_married</th>\n",
       "      <th>work_type</th>\n",
       "      <th>Residence_type</th>\n",
       "      <th>avg_glucose_level</th>\n",
       "      <th>bmi</th>\n",
       "      <th>smoking_status</th>\n",
       "      <th>stroke</th>\n",
       "    </tr>\n",
       "  </thead>\n",
       "  <tbody>\n",
       "    <tr>\n",
       "      <th>count</th>\n",
       "      <td>4909.000000</td>\n",
       "      <td>4909.000000</td>\n",
       "      <td>4909.000000</td>\n",
       "      <td>4909.000000</td>\n",
       "      <td>4909.000000</td>\n",
       "      <td>4909.000000</td>\n",
       "      <td>4909.000000</td>\n",
       "      <td>4909.000000</td>\n",
       "      <td>4909.000000</td>\n",
       "      <td>4909.000000</td>\n",
       "      <td>4909.000000</td>\n",
       "      <td>4909.000000</td>\n",
       "    </tr>\n",
       "    <tr>\n",
       "      <th>mean</th>\n",
       "      <td>37064.313506</td>\n",
       "      <td>0.410063</td>\n",
       "      <td>42.865374</td>\n",
       "      <td>0.091872</td>\n",
       "      <td>0.049501</td>\n",
       "      <td>0.652679</td>\n",
       "      <td>2.170096</td>\n",
       "      <td>0.507232</td>\n",
       "      <td>105.305150</td>\n",
       "      <td>28.893237</td>\n",
       "      <td>1.375433</td>\n",
       "      <td>0.042575</td>\n",
       "    </tr>\n",
       "    <tr>\n",
       "      <th>std</th>\n",
       "      <td>20995.098457</td>\n",
       "      <td>0.492309</td>\n",
       "      <td>22.555115</td>\n",
       "      <td>0.288875</td>\n",
       "      <td>0.216934</td>\n",
       "      <td>0.476167</td>\n",
       "      <td>1.092593</td>\n",
       "      <td>0.499999</td>\n",
       "      <td>44.424341</td>\n",
       "      <td>7.854067</td>\n",
       "      <td>1.067322</td>\n",
       "      <td>0.201917</td>\n",
       "    </tr>\n",
       "    <tr>\n",
       "      <th>min</th>\n",
       "      <td>77.000000</td>\n",
       "      <td>0.000000</td>\n",
       "      <td>0.080000</td>\n",
       "      <td>0.000000</td>\n",
       "      <td>0.000000</td>\n",
       "      <td>0.000000</td>\n",
       "      <td>0.000000</td>\n",
       "      <td>0.000000</td>\n",
       "      <td>55.120000</td>\n",
       "      <td>10.300000</td>\n",
       "      <td>0.000000</td>\n",
       "      <td>0.000000</td>\n",
       "    </tr>\n",
       "    <tr>\n",
       "      <th>25%</th>\n",
       "      <td>18605.000000</td>\n",
       "      <td>0.000000</td>\n",
       "      <td>25.000000</td>\n",
       "      <td>0.000000</td>\n",
       "      <td>0.000000</td>\n",
       "      <td>0.000000</td>\n",
       "      <td>2.000000</td>\n",
       "      <td>0.000000</td>\n",
       "      <td>77.070000</td>\n",
       "      <td>23.500000</td>\n",
       "      <td>0.000000</td>\n",
       "      <td>0.000000</td>\n",
       "    </tr>\n",
       "    <tr>\n",
       "      <th>50%</th>\n",
       "      <td>37608.000000</td>\n",
       "      <td>0.000000</td>\n",
       "      <td>44.000000</td>\n",
       "      <td>0.000000</td>\n",
       "      <td>0.000000</td>\n",
       "      <td>1.000000</td>\n",
       "      <td>2.000000</td>\n",
       "      <td>1.000000</td>\n",
       "      <td>91.680000</td>\n",
       "      <td>28.100000</td>\n",
       "      <td>2.000000</td>\n",
       "      <td>0.000000</td>\n",
       "    </tr>\n",
       "    <tr>\n",
       "      <th>75%</th>\n",
       "      <td>55220.000000</td>\n",
       "      <td>1.000000</td>\n",
       "      <td>60.000000</td>\n",
       "      <td>0.000000</td>\n",
       "      <td>0.000000</td>\n",
       "      <td>1.000000</td>\n",
       "      <td>3.000000</td>\n",
       "      <td>1.000000</td>\n",
       "      <td>113.570000</td>\n",
       "      <td>33.100000</td>\n",
       "      <td>2.000000</td>\n",
       "      <td>0.000000</td>\n",
       "    </tr>\n",
       "    <tr>\n",
       "      <th>max</th>\n",
       "      <td>72940.000000</td>\n",
       "      <td>2.000000</td>\n",
       "      <td>82.000000</td>\n",
       "      <td>1.000000</td>\n",
       "      <td>1.000000</td>\n",
       "      <td>1.000000</td>\n",
       "      <td>4.000000</td>\n",
       "      <td>1.000000</td>\n",
       "      <td>271.740000</td>\n",
       "      <td>97.600000</td>\n",
       "      <td>3.000000</td>\n",
       "      <td>1.000000</td>\n",
       "    </tr>\n",
       "  </tbody>\n",
       "</table>\n",
       "</div>"
      ],
      "text/plain": [
       "                 id       gender          age  hypertension  heart_disease  \\\n",
       "count   4909.000000  4909.000000  4909.000000   4909.000000    4909.000000   \n",
       "mean   37064.313506     0.410063    42.865374      0.091872       0.049501   \n",
       "std    20995.098457     0.492309    22.555115      0.288875       0.216934   \n",
       "min       77.000000     0.000000     0.080000      0.000000       0.000000   \n",
       "25%    18605.000000     0.000000    25.000000      0.000000       0.000000   \n",
       "50%    37608.000000     0.000000    44.000000      0.000000       0.000000   \n",
       "75%    55220.000000     1.000000    60.000000      0.000000       0.000000   \n",
       "max    72940.000000     2.000000    82.000000      1.000000       1.000000   \n",
       "\n",
       "       ever_married    work_type  Residence_type  avg_glucose_level  \\\n",
       "count   4909.000000  4909.000000     4909.000000        4909.000000   \n",
       "mean       0.652679     2.170096        0.507232         105.305150   \n",
       "std        0.476167     1.092593        0.499999          44.424341   \n",
       "min        0.000000     0.000000        0.000000          55.120000   \n",
       "25%        0.000000     2.000000        0.000000          77.070000   \n",
       "50%        1.000000     2.000000        1.000000          91.680000   \n",
       "75%        1.000000     3.000000        1.000000         113.570000   \n",
       "max        1.000000     4.000000        1.000000         271.740000   \n",
       "\n",
       "               bmi  smoking_status       stroke  \n",
       "count  4909.000000     4909.000000  4909.000000  \n",
       "mean     28.893237        1.375433     0.042575  \n",
       "std       7.854067        1.067322     0.201917  \n",
       "min      10.300000        0.000000     0.000000  \n",
       "25%      23.500000        0.000000     0.000000  \n",
       "50%      28.100000        2.000000     0.000000  \n",
       "75%      33.100000        2.000000     0.000000  \n",
       "max      97.600000        3.000000     1.000000  "
      ]
     },
     "metadata": {},
     "output_type": "display_data"
    }
   ],
   "source": [
    "display(df.describe())"
   ]
  },
  {
   "cell_type": "code",
   "execution_count": 12,
   "id": "2058c930",
   "metadata": {},
   "outputs": [
    {
     "name": "stdout",
     "output_type": "stream",
     "text": [
      "id                   0\n",
      "gender               0\n",
      "age                  0\n",
      "hypertension         0\n",
      "heart_disease        0\n",
      "ever_married         0\n",
      "work_type            0\n",
      "Residence_type       0\n",
      "avg_glucose_level    0\n",
      "bmi                  0\n",
      "smoking_status       0\n",
      "stroke               0\n",
      "dtype: int64\n"
     ]
    }
   ],
   "source": [
    "nan_values = df.isnull().sum()\n",
    "print(nan_values)"
   ]
  },
  {
   "cell_type": "code",
   "execution_count": 13,
   "id": "54d2537c",
   "metadata": {},
   "outputs": [],
   "source": [
    "X = df.iloc[:,:11]  # Features\n",
    "y = df.iloc[:, -1]  #Target variable"
   ]
  },
  {
   "cell_type": "code",
   "execution_count": 14,
   "id": "20470df1",
   "metadata": {},
   "outputs": [
    {
     "name": "stdout",
     "output_type": "stream",
     "text": [
      "795     0\n",
      "3031    0\n",
      "2438    0\n",
      "2043    0\n",
      "2032    0\n",
      "       ..\n",
      "4613    0\n",
      "511     0\n",
      "3247    0\n",
      "3946    0\n",
      "916     0\n",
      "Name: stroke, Length: 3681, dtype: int64\n",
      "4336    0\n",
      "3709    0\n",
      "964     0\n",
      "2647    0\n",
      "3262    0\n",
      "       ..\n",
      "564     0\n",
      "3848    0\n",
      "38      1\n",
      "4748    0\n",
      "1221    0\n",
      "Name: stroke, Length: 1228, dtype: int64\n"
     ]
    }
   ],
   "source": [
    "X_train, X_test, y_train, y_test = train_test_split(X, y, test_size=0.25, random_state=42) #Getting train and test data\n",
    "print(y_train)\n",
    "print(y_test)\n"
   ]
  },
  {
   "cell_type": "markdown",
   "id": "c3003205",
   "metadata": {},
   "source": [
    "# DECISION TREE"
   ]
  },
  {
   "cell_type": "code",
   "execution_count": 16,
   "id": "dcb31e62",
   "metadata": {},
   "outputs": [
    {
     "name": "stdout",
     "output_type": "stream",
     "text": [
      "|--- feature_2 <= 66.50\n",
      "|   |--- feature_2 <= 44.50\n",
      "|   |   |--- feature_8 <= 58.11\n",
      "|   |   |   |--- class: 0\n",
      "|   |   |--- feature_8 >  58.11\n",
      "|   |   |   |--- class: 0\n",
      "|   |--- feature_2 >  44.50\n",
      "|   |   |--- feature_0 <= 72916.50\n",
      "|   |   |   |--- class: 0\n",
      "|   |   |--- feature_0 >  72916.50\n",
      "|   |   |   |--- class: 1\n",
      "|--- feature_2 >  66.50\n",
      "|   |--- feature_8 <= 238.93\n",
      "|   |   |--- feature_0 <= 5352.00\n",
      "|   |   |   |--- class: 0\n",
      "|   |   |--- feature_0 >  5352.00\n",
      "|   |   |   |--- class: 0\n",
      "|   |--- feature_8 >  238.93\n",
      "|   |   |--- feature_1 <= 0.50\n",
      "|   |   |   |--- class: 0\n",
      "|   |   |--- feature_1 >  0.50\n",
      "|   |   |   |--- class: 1\n",
      "\n"
     ]
    },
    {
     "data": {
      "text/plain": [
       "[Text(0.5, 0.875, 'x[2] <= 66.5\\ngini = 0.076\\nsamples = 3681\\nvalue = [3535, 146]'),\n",
       " Text(0.25, 0.625, 'x[2] <= 44.5\\ngini = 0.037\\nsamples = 3065\\nvalue = [3008, 57]'),\n",
       " Text(0.125, 0.375, 'x[8] <= 58.115\\ngini = 0.006\\nsamples = 1859\\nvalue = [1853, 6]'),\n",
       " Text(0.0625, 0.125, 'gini = 0.077\\nsamples = 50\\nvalue = [48, 2]'),\n",
       " Text(0.1875, 0.125, 'gini = 0.004\\nsamples = 1809\\nvalue = [1805, 4]'),\n",
       " Text(0.375, 0.375, 'x[0] <= 72916.5\\ngini = 0.081\\nsamples = 1206\\nvalue = [1155, 51]'),\n",
       " Text(0.3125, 0.125, 'gini = 0.08\\nsamples = 1205\\nvalue = [1155, 50]'),\n",
       " Text(0.4375, 0.125, 'gini = 0.0\\nsamples = 1\\nvalue = [0, 1]'),\n",
       " Text(0.75, 0.625, 'x[8] <= 238.925\\ngini = 0.247\\nsamples = 616\\nvalue = [527, 89]'),\n",
       " Text(0.625, 0.375, 'x[0] <= 5352.0\\ngini = 0.231\\nsamples = 593\\nvalue = [514, 79]'),\n",
       " Text(0.5625, 0.125, 'gini = 0.402\\nsamples = 43\\nvalue = [31, 12]'),\n",
       " Text(0.6875, 0.125, 'gini = 0.214\\nsamples = 550\\nvalue = [483, 67]'),\n",
       " Text(0.875, 0.375, 'x[1] <= 0.5\\ngini = 0.491\\nsamples = 23\\nvalue = [13, 10]'),\n",
       " Text(0.8125, 0.125, 'gini = 0.355\\nsamples = 13\\nvalue = [10, 3]'),\n",
       " Text(0.9375, 0.125, 'gini = 0.42\\nsamples = 10\\nvalue = [3, 7]')]"
      ]
     },
     "execution_count": 16,
     "metadata": {},
     "output_type": "execute_result"
    },
    {
     "data": {
      "image/png": "[encoded data removed]",
      "text/plain": [
       "<Figure size 640x480 with 1 Axes>"
      ]
     },
     "metadata": {},
     "output_type": "display_data"
    }
   ],
   "source": [
    "\n",
    "# Decision tree\n",
    "from sklearn import tree\n",
    "DT=tr.DecisionTreeClassifier(max_depth=3)\n",
    "DT.fit(X_train,y_train)\n",
    "trACC=DT.score(X_train,y_train)\n",
    "tesACC=DT.score(X_test,y_test)\n",
    "model = DT.fit(X_train, y_train)\n",
    "text_representation = tr.export_text(DT)\n",
    "print(text_representation)\n",
    "# To Visualize Decision Tree\n",
    "tree.plot_tree(model)"
   ]
  },
  {
   "cell_type": "code",
   "execution_count": 17,
   "id": "ae1e288d",
   "metadata": {},
   "outputs": [
    {
     "data": {
      "image/png": "[encoded data removed]",
      "text/plain": [
       "<Figure size 640x480 with 1 Axes>"
      ]
     },
     "metadata": {},
     "output_type": "display_data"
    }
   ],
   "source": [
    "import matplotlib.pyplot as plt\n",
    "# Decision tree\n",
    "trACC=[]\n",
    "tesACC=[]\n",
    "MD=[]\n",
    "#Checking for different depths\n",
    "for i in range(1,8):\n",
    "    #Create a Decision Tree classifier with the current max_depth\n",
    "    DT=tr.DecisionTreeClassifier(max_depth=i)\n",
    "    DT.fit(X_train,y_train)\n",
    "    trACC.append(DT.score(X_train,y_train))\n",
    "    tesACC.append(DT.score(X_test,y_test))\n",
    "    MD.append(i)\n",
    "plt.figure()\n",
    "plt.plot(MD, trACC, label='Train',marker='o')\n",
    "plt.plot(MD, tesACC, label='Test', marker='o')\n",
    "plt.xlabel('Max_depth')\n",
    "plt.ylabel('Accuracy')\n",
    "plt.legend()\n",
    "plt.show()\n"
   ]
  },
  {
   "cell_type": "markdown",
   "id": "f9d43c0c",
   "metadata": {},
   "source": [
    "# KNN"
   ]
  },
  {
   "cell_type": "code",
   "execution_count": 31,
   "id": "f6bdd463",
   "metadata": {},
   "outputs": [
    {
     "name": "stdout",
     "output_type": "stream",
     "text": [
      "best_k = 4\n",
      "best_score = 0.9486970684039088\n"
     ]
    }
   ],
   "source": [
    "#KNN\n",
    "#Finding best k and score\n",
    "best_score = 0.0\n",
    "best_k = 0\n",
    "for k in range(1, 25):\n",
    "    knn_clf_sk = KNN(n_neighbors=k)\n",
    "    knn_clf_sk.fit(X_train, y_train)\n",
    "    score = knn_clf_sk.score(X_test, y_test)\n",
    "    if score > best_score:\n",
    "        best_k = k\n",
    "        best_score = score\n",
    "\n",
    "print(\"best_k = \" + str(best_k))\n",
    "print(\"best_score = \" + str(best_score))\n",
    "    "
   ]
  },
  {
   "cell_type": "code",
   "execution_count": 33,
   "id": "633f698f",
   "metadata": {},
   "outputs": [
    {
     "name": "stdout",
     "output_type": "stream",
     "text": [
      "[1.0, 0.9616951915240424, 0.960880195599022, 0.9603368649823417, 0.9603368649823417, 0.9603368649823417, 0.9603368649823417, 0.9603368649823417, 0.9603368649823417, 0.9603368649823417, 0.9603368649823417, 0.9603368649823417, 0.9603368649823417, 0.9603368649823417, 0.9603368649823417, 0.9603368649823417, 0.9603368649823417, 0.9603368649823417, 0.9603368649823417, 0.9603368649823417, 0.9603368649823417, 0.9603368649823417, 0.9603368649823417, 0.9603368649823417]\n",
      "[0.9258957654723127, 0.9478827361563518, 0.9438110749185668, 0.9486970684039088, 0.9486970684039088, 0.9486970684039088, 0.9486970684039088, 0.9486970684039088, 0.9486970684039088, 0.9486970684039088, 0.9486970684039088, 0.9486970684039088, 0.9486970684039088, 0.9486970684039088, 0.9486970684039088, 0.9486970684039088, 0.9486970684039088, 0.9486970684039088, 0.9486970684039088, 0.9486970684039088, 0.9486970684039088, 0.9486970684039088, 0.9486970684039088, 0.9486970684039088]\n",
      "[1, 2, 3, 4, 5, 6, 7, 8, 9, 10, 11, 12, 13, 14, 15, 16, 17, 18, 19, 20, 21, 22, 23, 24]\n"
     ]
    },
    {
     "data": {
      "image/png": "[encoded data removed]",
      "text/plain": [
       "<Figure size 640x480 with 1 Axes>"
      ]
     },
     "metadata": {},
     "output_type": "display_data"
    }
   ],
   "source": [
    "from sklearn.neighbors import KNeighborsClassifier\n",
    "\n",
    "test_score=[]\n",
    "train_score=[]\n",
    "MD=[]\n",
    "for i in range(1,25):\n",
    "    knn=KNN(n_neighbors=i)\n",
    "    knn.fit(X_train, y_train)\n",
    "    y_pred_train = knn.predict(X_train)\n",
    "    y_pred_test = knn.predict(X_test)\n",
    "    train_score.append(accuracy_score(y_train, y_pred_train))\n",
    "    test_score.append(accuracy_score(y_test, y_pred_test))\n",
    "    MD.append(i)\n",
    "print(train_score)\n",
    "print(test_score)\n",
    "print(MD)  \n",
    "# Visulaize accuracy\n",
    "plt.figure()\n",
    "plt.plot(MD, train_score, label='Train',marker='o')\n",
    "plt.plot(MD, test_score, label='Test',marker='o')\n",
    "plt.xlabel('K_neighbors')\n",
    "plt.ylabel('Accuracy')\n",
    "plt.grid()\n",
    "plt.legend()\n",
    "plt.show()\n"
   ]
  },
  {
   "cell_type": "markdown",
   "id": "2d9fcd02",
   "metadata": {},
   "source": [
    "# SVM"
   ]
  },
  {
   "cell_type": "code",
   "execution_count": 20,
   "id": "b96eb989",
   "metadata": {},
   "outputs": [
    {
     "name": "stdout",
     "output_type": "stream",
     "text": [
      "[0.9603368649823417, 0.9546318935071991, 0.9603368649823417, 0.9603368649823417]\n",
      "[0.9486970684039088, 0.9454397394136808, 0.9486970684039088, 0.9486970684039088]\n"
     ]
    },
    {
     "data": {
      "image/png": "[encoded data removed]",
      "text/plain": [
       "<Figure size 640x480 with 1 Axes>"
      ]
     },
     "metadata": {},
     "output_type": "display_data"
    }
   ],
   "source": [
    "# SVM classification with different kernels to find the best kernal\n",
    "import sklearn.svm as sv \n",
    "Acc_tr=[]\n",
    "Acc_tes=[]\n",
    "kernel=[]\n",
    " \n",
    "for i in ['poly', 'linear', 'sigmoid', 'rbf']:\n",
    "    clsfi=sv.SVC(kernel=i, degree=3)\n",
    "    clsfi.fit(X_train,y_train)\n",
    "    Acc_tr.append(clsfi.score(X_train,y_train))\n",
    "    Acc_tes.append(clsfi.score(X_test,y_test))\n",
    "    kernel.append(i)\n",
    "print(Acc_tr)\n",
    "print(Acc_tes)    \n",
    " \n",
    "plt.figure()\n",
    "plt.plot(Acc_tr,label='Train', marker='o')\n",
    "plt.plot(Acc_tes,label='Test', marker='o')\n",
    "plt.xticks([0, 1, 2, 3], kernel)\n",
    "plt.xlabel('kernel')\n",
    "plt.ylabel('Accuracy')\n",
    "plt.legend()\n",
    "plt.show()"
   ]
  },
  {
   "cell_type": "code",
   "execution_count": 32,
   "id": "8b8d5853",
   "metadata": {},
   "outputs": [
    {
     "name": "stdout",
     "output_type": "stream",
     "text": [
      "[0.9603368649823417, 0.9603368649823417, 0.9603368649823417, 0.9603368649823417, 0.9603368649823417, 0.9603368649823417, 0.9603368649823417, 0.9603368649823417, 0.9603368649823417]\n",
      "[0.9486970684039088, 0.9486970684039088, 0.9486970684039088, 0.9486970684039088, 0.9486970684039088, 0.9486970684039088, 0.9486970684039088, 0.9486970684039088, 0.9486970684039088]\n"
     ]
    },
    {
     "data": {
      "image/png": "[encoded data removed]",
      "text/plain": [
       "<Figure size 640x480 with 1 Axes>"
      ]
     },
     "metadata": {},
     "output_type": "display_data"
    }
   ],
   "source": [
    "# SVM classification using polynomial kernel with different degrees\n",
    "Acc_tr=[]\n",
    "Acc_tes=[]\n",
    "Degree=[]\n",
    " \n",
    "for i in range(1,10):\n",
    "    clsfi=sv.SVC(kernel='poly', degree=i)\n",
    "    clsfi.fit(X_train,y_train)\n",
    "    Acc_tr.append(clsfi.score(X_train,y_train))\n",
    "    Acc_tes.append(clsfi.score(X_test,y_test))\n",
    "    Degree.append(i)\n",
    "print(Acc_tr)\n",
    "print(Acc_tes)    \n",
    " \n",
    "plt.figure()\n",
    "plt.plot(Degree,Acc_tr,label='Train', marker='o')\n",
    "plt.plot(Degree, Acc_tes,label='Test', marker='o')\n",
    "\n",
    "plt.xlabel('Degree')\n",
    "plt.ylabel('Accuracy')\n",
    "plt.legend()\n",
    "plt.show()\n",
    "\n"
   ]
  },
  {
   "cell_type": "markdown",
   "id": "dadd38cc",
   "metadata": {},
   "source": [
    "# LOGISTIC REGRESSION"
   ]
  },
  {
   "cell_type": "code",
   "execution_count": 23,
   "id": "bdf2c3d9",
   "metadata": {},
   "outputs": [
    {
     "name": "stdout",
     "output_type": "stream",
     "text": [
      "Train Accuracy 0.9595218690573214\n",
      "Test Accuracy 0.9495114006514658\n"
     ]
    }
   ],
   "source": [
    "from sklearn.linear_model import LogisticRegression\n",
    "from sklearn.datasets import load_iris\n",
    "\n",
    "LR=LogisticRegression(max_iter=200)\n",
    "LR.fit(X_train,y_train)\n",
    "\n",
    "ACC_tr=LR.score(X_train,y_train)\n",
    "ACC_tes=LR.score(X_test,y_test)\n",
    "\n",
    "\n",
    "print('Train Accuracy',ACC_tr)\n",
    "print('Test Accuracy', ACC_tes)\n"
   ]
  },
  {
   "cell_type": "markdown",
   "id": "05bfb13a",
   "metadata": {},
   "source": [
    "# NAIVE BAYES"
   ]
  },
  {
   "cell_type": "code",
   "execution_count": 26,
   "id": "40dcb8fe",
   "metadata": {},
   "outputs": [
    {
     "name": "stdout",
     "output_type": "stream",
     "text": [
      "Train_Accuracy= 0.9274653626731867\n",
      "Test_Accuracy= 0.9128664495114006\n"
     ]
    }
   ],
   "source": [
    "import sklearn.naive_bayes as nb\n",
    "# NB classifier\n",
    "NB=nb.GaussianNB()\n",
    "NB.fit(X_train,y_train)\n",
    "ACC_tr=NB.score(X_train,y_train)\n",
    "ACC_tes=NB.score(X_test,y_test)\n",
    "print('Train_Accuracy=', ACC_tr)\n",
    "print('Test_Accuracy=', ACC_tes)\n"
   ]
  },
  {
   "cell_type": "code",
   "execution_count": 8,
   "id": "6c7bf38f",
   "metadata": {},
   "outputs": [
    {
     "name": "stdout",
     "output_type": "stream",
     "text": [
      "Logistic Regression 0.9601880877742947\n",
      "KNN 0.9608150470219435\n",
      "Decision Tree 0.9605015673981191\n",
      "SVM 0.9642633228840125\n",
      "Gaussian 0.8724137931034482\n",
      "{'Logistic Regression': 0.9522978475858057, 'KNN': 0.951716114019779, 'Decision Tree': 0.9522978475858057, 'SVM': 0.9505526468877254, 'Gaussian': 0.8714368819080861}\n"
     ]
    }
   ],
   "source": [
    "\n",
    "from sklearn.preprocessing import StandardScaler\n",
    "from sklearn.linear_model import LogisticRegression\n",
    "from sklearn.neighbors import KNeighborsClassifier\n",
    "from sklearn.tree import DecisionTreeClassifier\n",
    "from sklearn.svm import SVC\n",
    "from sklearn.metrics import accuracy_score\n",
    "from sklearn.ensemble import RandomForestClassifier\n",
    "from sklearn.metrics import accuracy_score\n",
    "import sklearn.naive_bayes as nb\n",
    "from sklearn.neighbors import KNeighborsClassifier as KNN\n",
    "from sklearn import tree\n",
    "from sklearn.tree import DecisionTreeClassifier\n",
    "import sklearn.tree as tr\n",
    "from sklearn.linear_model import LogisticRegression\n",
    "from sklearn.model_selection import train_test_split\n",
    "from sklearn.metrics import accuracy_score\n",
    "from sklearn.preprocessing import MinMaxScaler\n",
    "import numpy as np\n",
    "import sklearn.datasets as dt\n",
    "import sklearn.model_selection as ms\n",
    "import sklearn.neighbors as ne \n",
    "from sklearn.neighbors import KNeighborsClassifier\n",
    "from sklearn.metrics import accuracy_score\n",
    "from sklearn.model_selection import train_test_split\n",
    "  \n",
    "def build_and_evaluate_models(df):\n",
    "    from sklearn.preprocessing import LabelEncoder\n",
    "    lb=LabelEncoder()\n",
    "    df['gender']=lb.fit_transform(df['gender'])\n",
    "    df['ever_married']=lb.fit_transform(df['ever_married'])\n",
    "    df['work_type']=lb.fit_transform(df['work_type'])\n",
    "    df['Residence_type']=lb.fit_transform(df['Residence_type'])\n",
    "    df['smoking_status']=lb.fit_transform(df['smoking_status'])\n",
    "\n",
    "    df.replace('\\t?', float('nan'), inplace=True)  # Replace '\\t?' with NaN\n",
    " \n",
    "    # Convert the relevant columns to float\n",
    "    columns_to_convert = [ 'gender',     'ever_married',   'work_type' ,  'Residence_type',  'smoking_status']\n",
    "    for column in columns_to_convert:\n",
    "        df[column] = pd.to_numeric(df[column], errors='coerce')\n",
    " \n",
    "    # Drop rows with missing values\n",
    "    df.dropna(inplace=True)\n",
    "    df = df.dropna(subset=['bmi'])\n",
    "    scaler=MinMaxScaler()\n",
    "    scaled_values=scaler.fit_transform(df)\n",
    "    df.loc[:,:]=scaled_values\n",
    "    X_new = df.iloc[:,:11]  # Features\n",
    "    y = df.iloc[:, -1]   # Target variable\n",
    " \n",
    "    X_train, X_test, y_train, y_test = train_test_split(X_new, y, test_size=0.35, random_state=42)\n",
    " \n",
    "    # Feature scaling\n",
    "    scaler = StandardScaler()\n",
    "    scaler.fit(X_train)\n",
    "    X_train_scaled = scaler.transform(X_train)\n",
    "    X_test_scaled = scaler.transform(X_test)\n",
    " \n",
    "    models = {}\n",
    "    train_model={}\n",
    "    models['Logistic Regression'] = LogisticRegression(solver='liblinear')\n",
    "    models['KNN'] = KNeighborsClassifier(n_neighbors=4)  \n",
    "    models['Decision Tree'] = DecisionTreeClassifier(max_depth=3)  \n",
    "    models['SVM'] = SVC(kernel='poly', degree=3)  \n",
    "    models['Gaussian']=nb.GaussianNB()\n",
    "    \n",
    "    for name, model in models.items():\n",
    "        model.fit(X_train_scaled, y_train)\n",
    "        y_pred = model.predict(X_test_scaled)\n",
    "        accuracy = accuracy_score(y_test, y_pred)\n",
    "        print(name,model.score(X_train_scaled, y_train))\n",
    "        models[name] = accuracy\n",
    " \n",
    "    return models\n",
    " \n",
    "df=pd.read_csv(\"C:\\\\Users\\\\HP\\\\Downloads\\\\healthcare-dataset-stroke-data.csv\")\n",
    "print(build_and_evaluate_models(df))"
   ]
  },
  {
   "cell_type": "code",
   "execution_count": null,
   "id": "8583d37d",
   "metadata": {},
   "outputs": [],
   "source": []
  }
 ],
 "metadata": {
  "kernelspec": {
   "display_name": "Python 3 (ipykernel)",
   "language": "python",
   "name": "python3"
  },
  "language_info": {
   "codemirror_mode": {
    "name": "ipython",
    "version": 3
   },
   "file_extension": ".py",
   "mimetype": "text/x-python",
   "name": "python",
   "nbconvert_exporter": "python",
   "pygments_lexer": "ipython3",
   "version": "3.11.4"
  }
 },
 "nbformat": 4,
 "nbformat_minor": 5
}
